{
 "cells": [
  {
   "cell_type": "markdown",
   "metadata": {},
   "source": [
    "This exercise will require you to pull some data from the Qunadl API. Qaundl is currently the most widely used aggregator of financial market data."
   ]
  },
  {
   "cell_type": "markdown",
   "metadata": {},
   "source": [
    "As a first step, you will need to register a free account on the http://www.quandl.com website."
   ]
  },
  {
   "cell_type": "markdown",
   "metadata": {},
   "source": [
    "After you register, you will be provided with a unique API key, that you should store:"
   ]
  },
  {
   "cell_type": "code",
   "execution_count": 1,
   "metadata": {},
   "outputs": [],
   "source": [
    "# Store the API key as a string - according to PEP8, constants are always named in all upper case\n",
    "API_KEY = '___' "
   ]
  },
  {
   "cell_type": "markdown",
   "metadata": {},
   "source": [
    "Qaundl has a large number of data sources, but, unfortunately, most of them require a Premium subscription. Still, there are also a good number of free datasets."
   ]
  },
  {
   "cell_type": "markdown",
   "metadata": {},
   "source": [
    "For this mini project, we will focus on equities data from the Frankfurt Stock Exhange (FSE), which is available for free. We'll try and analyze the stock prices of a company called Carl Zeiss Meditec, which manufactures tools for eye examinations, as well as medical lasers for laser eye surgery: https://www.zeiss.com/meditec/int/home.html. The company is listed under the stock ticker AFX_X."
   ]
  },
  {
   "cell_type": "markdown",
   "metadata": {},
   "source": [
    "You can find the detailed Quandl API instructions here: https://docs.quandl.com/docs/time-series"
   ]
  },
  {
   "cell_type": "markdown",
   "metadata": {},
   "source": [
    "While there is a dedicated Python package for connecting to the Quandl API, we would prefer that you use the *requests* package, which can be easily downloaded using *pip* or *conda*. You can find the documentation for the package here: http://docs.python-requests.org/en/master/ "
   ]
  },
  {
   "cell_type": "markdown",
   "metadata": {},
   "source": [
    "Finally, apart from the *requests* package, you are encouraged to not use any third party Python packages, such as *pandas*, and instead focus on what's available in the Python Standard Library (the *collections* module might come in handy: https://pymotw.com/3/collections/).\n",
    "Also, since you won't have access to DataFrames, you are encouraged to us Python's native data structures - preferably dictionaries, though some questions can also be answered using lists.\n",
    "You can read more on these data structures here: https://docs.python.org/3/tutorial/datastructures.html"
   ]
  },
  {
   "cell_type": "markdown",
   "metadata": {},
   "source": [
    "Keep in mind that the JSON responses you will be getting from the API map almost one-to-one to Python's dictionaries. Unfortunately, they can be very nested, so make sure you read up on indexing dictionaries in the documentation provided above."
   ]
  },
  {
   "cell_type": "code",
   "execution_count": 2,
   "metadata": {},
   "outputs": [],
   "source": [
    "# First, import the relevant modules\n",
    "\n",
    "import requests\n",
    "import json"
   ]
  },
  {
   "cell_type": "code",
   "execution_count": 3,
   "metadata": {},
   "outputs": [],
   "source": [
    "# Now, call the Quandl API and pull out a small sample of the data (only one day) to get a glimpse\n",
    "# into the JSON structure that will be returned\n",
    "\n",
    "one_day = 'https://www.quandl.com/api/v3/datasets/FSE/AFX_X.json?&start_date=2017-01-01&end_date=2017-01-01&api_key='+API_KEY\n",
    "rqs = requests.get(one_day)\n",
    "rqs_json = rqs.json()"
   ]
  },
  {
   "cell_type": "code",
   "execution_count": 4,
   "metadata": {},
   "outputs": [
    {
     "data": {
      "text/plain": [
       "{'dataset': {'collapse': None,\n",
       "  'column_index': None,\n",
       "  'column_names': ['Date',\n",
       "   'Open',\n",
       "   'High',\n",
       "   'Low',\n",
       "   'Close',\n",
       "   'Change',\n",
       "   'Traded Volume',\n",
       "   'Turnover',\n",
       "   'Last Price of the Day',\n",
       "   'Daily Traded Units',\n",
       "   'Daily Turnover'],\n",
       "  'data': [],\n",
       "  'database_code': 'FSE',\n",
       "  'database_id': 6129,\n",
       "  'dataset_code': 'AFX_X',\n",
       "  'description': 'Stock Prices for Carl Zeiss Meditec (AFX) from the Frankfurt Stock Exchange.<br><br>Trading System: Xetra<br><br>ISIN: DE0005313704',\n",
       "  'end_date': '2017-01-01',\n",
       "  'frequency': 'daily',\n",
       "  'id': 10095370,\n",
       "  'limit': None,\n",
       "  'name': 'Carl Zeiss Meditec (AFX_X)',\n",
       "  'newest_available_date': '2018-10-15',\n",
       "  'oldest_available_date': '2000-06-07',\n",
       "  'order': None,\n",
       "  'premium': False,\n",
       "  'refreshed_at': '2018-10-15T22:36:56.251Z',\n",
       "  'start_date': '2017-01-01',\n",
       "  'transform': None,\n",
       "  'type': 'Time Series'}}"
      ]
     },
     "execution_count": 4,
     "metadata": {},
     "output_type": "execute_result"
    }
   ],
   "source": [
    "# Inspect the JSON structure of the object you created, and take note of how nested it is,\n",
    "# as well as the overall structure\n",
    "rqs_json"
   ]
  },
  {
   "cell_type": "markdown",
   "metadata": {},
   "source": [
    "** Problem 1: Collect data from the Franfurt Stock Exchange, for the ticker AFX_X, for the whole year 2017**"
   ]
  },
  {
   "cell_type": "code",
   "execution_count": 5,
   "metadata": {},
   "outputs": [
    {
     "data": {
      "text/plain": [
       "200"
      ]
     },
     "execution_count": 5,
     "metadata": {},
     "output_type": "execute_result"
    }
   ],
   "source": [
    "# Set start_date Jan 1, 2017 and the end date to Dec 31, 2017\n",
    "link_whole_2017 = 'https://www.quandl.com/api/v3/datasets/FSE/AFX_X.json?&start_date=2017-01-01&end_date=2017-12-31&api_key='+API_KEY\n",
    "rqs = requests.get(link_whole_2017)\n",
    "\n",
    "# If the data is imported properly we should get code:200\n",
    "rqs.status_code"
   ]
  },
  {
   "cell_type": "markdown",
   "metadata": {},
   "source": [
    "**Problem 2: Convert the returned JSON object into a Python dictionary**"
   ]
  },
  {
   "cell_type": "code",
   "execution_count": 6,
   "metadata": {},
   "outputs": [
    {
     "data": {
      "text/plain": [
       "dict"
      ]
     },
     "execution_count": 6,
     "metadata": {},
     "output_type": "execute_result"
    }
   ],
   "source": [
    "rqs_json = rqs.json()\n",
    "type(rqs_json)"
   ]
  },
  {
   "cell_type": "markdown",
   "metadata": {},
   "source": [
    "**Problem 3: Calculate what the highest and lowest opening prices were for the stock in this period**"
   ]
  },
  {
   "cell_type": "code",
   "execution_count": 7,
   "metadata": {},
   "outputs": [
    {
     "data": {
      "text/plain": [
       "dict_keys(['dataset'])"
      ]
     },
     "execution_count": 7,
     "metadata": {},
     "output_type": "execute_result"
    }
   ],
   "source": [
    "# Lets see the data content\n",
    "rqs_json.keys()"
   ]
  },
  {
   "cell_type": "code",
   "execution_count": 8,
   "metadata": {},
   "outputs": [
    {
     "data": {
      "text/plain": [
       "dict_keys(['collapse', 'refreshed_at', 'id', 'data', 'premium', 'type', 'order', 'transform', 'oldest_available_date', 'database_id', 'start_date', 'limit', 'description', 'column_index', 'end_date', 'dataset_code', 'frequency', 'newest_available_date', 'name', 'database_code', 'column_names'])"
      ]
     },
     "execution_count": 8,
     "metadata": {},
     "output_type": "execute_result"
    }
   ],
   "source": [
    "rqs_json['dataset'].keys()"
   ]
  },
  {
   "cell_type": "code",
   "execution_count": 9,
   "metadata": {},
   "outputs": [
    {
     "data": {
      "text/plain": [
       "['Date',\n",
       " 'Open',\n",
       " 'High',\n",
       " 'Low',\n",
       " 'Close',\n",
       " 'Change',\n",
       " 'Traded Volume',\n",
       " 'Turnover',\n",
       " 'Last Price of the Day',\n",
       " 'Daily Traded Units',\n",
       " 'Daily Turnover']"
      ]
     },
     "execution_count": 9,
     "metadata": {},
     "output_type": "execute_result"
    }
   ],
   "source": [
    "# Data column names in a list called column_names\n",
    "rqs_json['dataset']['column_names']"
   ]
  },
  {
   "cell_type": "code",
   "execution_count": 10,
   "metadata": {},
   "outputs": [
    {
     "data": {
      "text/plain": [
       "[['2017-12-29',\n",
       "  51.76,\n",
       "  51.94,\n",
       "  51.45,\n",
       "  51.76,\n",
       "  None,\n",
       "  34640.0,\n",
       "  1792304.0,\n",
       "  None,\n",
       "  None,\n",
       "  None],\n",
       " ['2017-12-28',\n",
       "  51.65,\n",
       "  51.82,\n",
       "  51.43,\n",
       "  51.6,\n",
       "  None,\n",
       "  40660.0,\n",
       "  2099024.0,\n",
       "  None,\n",
       "  None,\n",
       "  None]]"
      ]
     },
     "execution_count": 10,
     "metadata": {},
     "output_type": "execute_result"
    }
   ],
   "source": [
    "# Data are in a list of lists that called data\n",
    "rqs_json['dataset']['data'][0:2]"
   ]
  },
  {
   "cell_type": "code",
   "execution_count": 11,
   "metadata": {},
   "outputs": [],
   "source": [
    "# Find the index value of the 'Open' in columns list\n",
    "# Index of Openings\n",
    "i_opens = rqs_json['dataset']['column_names'].index('Open')"
   ]
  },
  {
   "cell_type": "code",
   "execution_count": 12,
   "metadata": {},
   "outputs": [],
   "source": [
    "# Find the index value of the 'Date' in columns list\n",
    "# Index of the date associated with the 'Open' value\n",
    "i_date = rqs_json['dataset']['column_names'].index('Date')"
   ]
  },
  {
   "cell_type": "code",
   "execution_count": 13,
   "metadata": {},
   "outputs": [],
   "source": [
    "# Assing the data in a variable for simplicity \n",
    "data_handler = rqs_json['dataset']['data']\n",
    "\n",
    "# Create a dictionary that has opening values corresponding to each day\n",
    "openings = {data_handler[j][i_date] : data_handler[j][i_opens] for j in range(len(data_handler)) if data_handler[j][i_opens] is not None }"
   ]
  },
  {
   "cell_type": "code",
   "execution_count": 14,
   "metadata": {
    "scrolled": true
   },
   "outputs": [
    {
     "name": "stdout",
     "output_type": "stream",
     "text": [
      "Max and Min Opening Values by Dates: \n",
      "('2017-12-14', 53.11) ('2017-01-24', 34.0)\n"
     ]
    }
   ],
   "source": [
    "import operator\n",
    "\n",
    "# Method 1: Calculate max and min values of opening prices\n",
    "mx = max(openings.items(), key=operator.itemgetter(1))\n",
    "mn = min(openings.items(), key=operator.itemgetter(1))\n",
    "\n",
    "\n",
    "print('Max and Min Opening Values by Dates: ')\n",
    "print(mx,mn)"
   ]
  },
  {
   "cell_type": "code",
   "execution_count": 15,
   "metadata": {},
   "outputs": [
    {
     "name": "stdout",
     "output_type": "stream",
     "text": [
      " ['max_opening_value $53.11 at 2017-12-14'] \n",
      " ['lowest_opening_value $34.0 at 2017-01-24']\n"
     ]
    }
   ],
   "source": [
    "# Method 2: Calculate max and min values of opening prices\n",
    "def min_max_opening(data):\n",
    "    max_opening = ['max_opening_value $' + str(v) + ' at ' + k  for k,v in data.items() if v == max(data.values()) ]\n",
    "    lowest_opening = ['lowest_opening_value $' + str(v) + ' at ' + k  for k,v in data.items() if v == min(data.values()) ]\n",
    "    return print('',max_opening,'\\n',lowest_opening)\n",
    "\n",
    "# Function call\n",
    "min_max_opening(openings)"
   ]
  },
  {
   "cell_type": "markdown",
   "metadata": {},
   "source": [
    "**Problem 4: What was the largest change in any one day (based on High and Low price)**"
   ]
  },
  {
   "cell_type": "code",
   "execution_count": 16,
   "metadata": {},
   "outputs": [],
   "source": [
    "# Find the index value of the 'High' in columns list\n",
    "\n",
    "i_high = rqs_json['dataset']['column_names'].index('High')"
   ]
  },
  {
   "cell_type": "code",
   "execution_count": 17,
   "metadata": {},
   "outputs": [],
   "source": [
    "# Find the index value of the 'Low' in columns list\n",
    "\n",
    "i_low = rqs_json['dataset']['column_names'].index('Low')"
   ]
  },
  {
   "cell_type": "code",
   "execution_count": 18,
   "metadata": {},
   "outputs": [],
   "source": [
    "# Create a dictionary that has High values corresponding to each day\n",
    "# Note that every 3rd element in each list is HighValue and 4th is Low\n",
    "highs = {data_handler[j][i_date] : data_handler[j][i_high] for j in range(len(data_handler)) if data_handler[j][i_high] is not None }\n"
   ]
  },
  {
   "cell_type": "code",
   "execution_count": 19,
   "metadata": {},
   "outputs": [],
   "source": [
    "# Create a dictionary that has Low values corresponding to each day\n",
    "lows = {data_handler[j][i_date] : data_handler[j][i_low] for j in range(len(data_handler)) if data_handler[j][i_low] is not None }\n"
   ]
  },
  {
   "cell_type": "code",
   "execution_count": 20,
   "metadata": {},
   "outputs": [],
   "source": [
    "# Calculate the difference between highs and lows\n",
    "change = {key: highs[key]-lows[key] for key in highs.keys()}"
   ]
  },
  {
   "cell_type": "code",
   "execution_count": 21,
   "metadata": {},
   "outputs": [
    {
     "name": "stdout",
     "output_type": "stream",
     "text": [
      "\n",
      " $2.81 is the largest change on 2017-05-11 based on High and Low price\n"
     ]
    }
   ],
   "source": [
    "# Find the maximum difference along with the date\n",
    "# Sort the dictionary 'change' by its values using lambda function\n",
    "key, value = max(change.items(), key=lambda x:x[1])\n",
    "print('\\n','${} is the largest change on {} based on High and Low price'.format(round(value,2),key))"
   ]
  },
  {
   "cell_type": "markdown",
   "metadata": {},
   "source": [
    "**Problem 5: What was the largest change between any two days (based on Closing Price)?**"
   ]
  },
  {
   "cell_type": "code",
   "execution_count": 22,
   "metadata": {},
   "outputs": [],
   "source": [
    "# Find the index value of the 'Close' in columns list\n",
    "\n",
    "i_close = rqs_json['dataset']['column_names'].index('Close')"
   ]
  },
  {
   "cell_type": "code",
   "execution_count": 23,
   "metadata": {},
   "outputs": [
    {
     "name": "stdout",
     "output_type": "stream",
     "text": [
      "\n",
      " $2.56 is the largest change between any two days\n"
     ]
    }
   ],
   "source": [
    "def largest_change(data):\n",
    "    '''This function finds maximum change between two consecutive days'''\n",
    "    \n",
    "    return max([abs(data[j][i_close]-data[j-1][i_close]) \n",
    "                for j in range(1,len(data)) if data[j][i_close] is not None])\n",
    "\n",
    "\n",
    "print('\\n', '${} is the largest change between any two days'\\\n",
    "      .format(round(largest_change(data_handler),2)))"
   ]
  },
  {
   "cell_type": "markdown",
   "metadata": {},
   "source": [
    "**Problem 6: What was the average daily trading volume during this year?**"
   ]
  },
  {
   "cell_type": "code",
   "execution_count": 24,
   "metadata": {},
   "outputs": [],
   "source": [
    "# Find the index value of the 'Traded Volume' in columns list\n",
    "\n",
    "i_trade = rqs_json['dataset']['column_names'].index('Traded Volume')"
   ]
  },
  {
   "cell_type": "code",
   "execution_count": 25,
   "metadata": {},
   "outputs": [
    {
     "name": "stdout",
     "output_type": "stream",
     "text": [
      "\n",
      " 89124.34 is the average daily trading volume during this year\n"
     ]
    }
   ],
   "source": [
    "# Store Trading_vol, the sixth element in the data, to the list\n",
    "trading_vol = [data_handler[j][i_trade] for j in range(len(data_handler))]\n",
    "avg_trading_vol = sum(trading_vol)/len(trading_vol)\n",
    "print('\\n','{} is the average daily trading volume during this year'\\\n",
    "      .format(round(avg_trading_vol,2)))"
   ]
  },
  {
   "cell_type": "markdown",
   "metadata": {},
   "source": [
    "**Problem 7: (Optional) What was the median trading volume during this year. (Note: you may need to implement your own function for calculating the median.)**"
   ]
  },
  {
   "cell_type": "code",
   "execution_count": 26,
   "metadata": {},
   "outputs": [
    {
     "name": "stdout",
     "output_type": "stream",
     "text": [
      "\n",
      " 76286.0  is the median trading volume during this year\n"
     ]
    }
   ],
   "source": [
    "# Median is the data point at which exactly half of the ordered data\n",
    "\n",
    "def find_median(values):\n",
    "\n",
    "\n",
    "    # First sort the list in ascending order\n",
    "    sorted_trading_vol = sorted(values, reverse= False)\n",
    "    # Calculate the size of the list\n",
    "    size = len(sorted_trading_vol)\n",
    "    \n",
    "    # Check if the size is odd or even number provided the list not empty\n",
    "    if size % 2 == 1:\n",
    "        return sorted_trading_vol[size//2]\n",
    "    else:\n",
    "        return sum(sorted_trading_vol[size//2-1:size//2+1])/2.0\n",
    "    \n",
    "print('\\n',find_median(values = trading_vol) , ' is the median trading volume during this year')"
   ]
  },
  {
   "cell_type": "markdown",
   "metadata": {},
   "source": [
    "These are your tasks for this mini project:\n",
    "\n",
    "1. Collect data from the Franfurt Stock Exchange, for the ticker AFX_X, for the whole year 2017 (keep in mind that the date format is YYYY-MM-DD).\n",
    "2. Convert the returned JSON object into a Python dictionary.\n",
    "3. Calculate what the highest and lowest opening prices were for the stock in this period.\n",
    "4. What was the largest change in any one day (based on High and Low price)?\n",
    "5. What was the largest change between any two days (based on Closing Price)?\n",
    "6. What was the average daily trading volume during this year?\n",
    "7. (Optional) What was the median trading volume during this year. (Note: you may need to implement your own function for calculating the median.)"
   ]
  },
  {
   "cell_type": "code",
   "execution_count": null,
   "metadata": {},
   "outputs": [],
   "source": []
  }
 ],
 "metadata": {
  "kernelspec": {
   "display_name": "Python 3",
   "language": "python",
   "name": "python3"
  },
  "language_info": {
   "codemirror_mode": {
    "name": "ipython",
    "version": 3
   },
   "file_extension": ".py",
   "mimetype": "text/x-python",
   "name": "python",
   "nbconvert_exporter": "python",
   "pygments_lexer": "ipython3",
   "version": "3.5.5"
  }
 },
 "nbformat": 4,
 "nbformat_minor": 2
}
